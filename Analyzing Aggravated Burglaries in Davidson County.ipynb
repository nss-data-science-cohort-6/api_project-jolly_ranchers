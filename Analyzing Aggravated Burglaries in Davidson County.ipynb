{
 "cells": [
  {
   "cell_type": "markdown",
   "id": "45813f3c",
   "metadata": {},
   "source": [
    "# APIs\n",
    "\n",
    "An Application Programming Interface, or API, is a structured way to retrieve data from a website. Using an API is safer and easier than something like webscraping, since what you get back is already in a usable format. Many organizations use APIs like:\n",
    "\n",
    "For this project we will be using\n",
    "Metro Nashville Police Department reported incidents data available at https://data.nashville.gov/Police/Metro-Nashville-Police-Department-Incidents/2u6v-ujjs. \n",
    "\n",
    "We will analyze the data reagrding **aggravated burglary incidents ()** during the nine month period from **January 1, 2022 through September 30, 2022**"
   ]
  },
  {
   "cell_type": "markdown",
   "id": "9a18fc75",
   "metadata": {},
   "source": [
    "We will be Using the **2020 American Community Survey API**, obtain, for each census tract, **the population (B01001_001E in the detailed tables) and the median income (S1901_C01_012E in the subject tables)**. Hint: Tennessee's FIPS code is 47 and Davidson County's FIPS code is 37.\n",
    "\n"
   ]
  },
  {
   "cell_type": "markdown",
   "id": "8c7002cc",
   "metadata": {},
   "source": [
    "# PART1"
   ]
  },
  {
   "cell_type": "code",
   "execution_count": 1,
   "id": "d4411154",
   "metadata": {},
   "outputs": [],
   "source": [
    "import requests\n",
    "import matplotlib.pyplot as plt\n",
    "import json\n",
    "import pandas as pd"
   ]
  },
  {
   "cell_type": "markdown",
   "id": "46e25d49",
   "metadata": {},
   "source": [
    "We will be using the `requests` package to make a `GET` request to an API. Similar to webscraping, APIs require an endpoint to tell python where to send the request.\n",
    "\n",
    "When using an API, the first thing we need to know is the expected URL structure. In this case, it is \n",
    "https://data.nashville.gov/resource/2u6v-ujjs.json **We should not use the json as it will give us the first 2000 or so we need to get specific info from 01/01/2022 to 09/030/2022 and only the bulgary information and analyse it with repsect to the population density, income status and if it happens in a particular IPcode over the other**"
   ]
  },
  {
   "cell_type": "code",
   "execution_count": 2,
   "id": "41042842",
   "metadata": {
    "scrolled": true
   },
   "outputs": [
    {
     "data": {
      "text/html": [
       "<div>\n",
       "<style scoped>\n",
       "    .dataframe tbody tr th:only-of-type {\n",
       "        vertical-align: middle;\n",
       "    }\n",
       "\n",
       "    .dataframe tbody tr th {\n",
       "        vertical-align: top;\n",
       "    }\n",
       "\n",
       "    .dataframe thead th {\n",
       "        text-align: right;\n",
       "    }\n",
       "</style>\n",
       "<table border=\"1\" class=\"dataframe\">\n",
       "  <thead>\n",
       "    <tr style=\"text-align: right;\">\n",
       "      <th></th>\n",
       "      <th>primary_key</th>\n",
       "      <th>incident_number</th>\n",
       "      <th>report_type</th>\n",
       "      <th>report_type_description</th>\n",
       "      <th>incident_status_code</th>\n",
       "      <th>incident_status_description</th>\n",
       "      <th>investigation_status</th>\n",
       "      <th>incident_occurred</th>\n",
       "      <th>incident_reported</th>\n",
       "      <th>incident_location</th>\n",
       "      <th>...</th>\n",
       "      <th>victim_description</th>\n",
       "      <th>victim_gender</th>\n",
       "      <th>victim_race</th>\n",
       "      <th>victim_ethnicity</th>\n",
       "      <th>victim_county_resident</th>\n",
       "      <th>mapped_location</th>\n",
       "      <th>:@computed_region_wvby_4s8j</th>\n",
       "      <th>:@computed_region_3aw5_2wv7</th>\n",
       "      <th>:@computed_region_p6sk_2acq</th>\n",
       "      <th>:@computed_region_gxvr_9jxz</th>\n",
       "    </tr>\n",
       "  </thead>\n",
       "  <tbody>\n",
       "    <tr>\n",
       "      <th>0</th>\n",
       "      <td>20220641257_11</td>\n",
       "      <td>20220641257</td>\n",
       "      <td>W</td>\n",
       "      <td>WITNESS</td>\n",
       "      <td>U</td>\n",
       "      <td>UNFOUNDED</td>\n",
       "      <td>Closed</td>\n",
       "      <td>2022-10-14T16:00:00.000</td>\n",
       "      <td>2022-10-14T16:01:00.000</td>\n",
       "      <td>4343 4343</td>\n",
       "      <td>...</td>\n",
       "      <td>INDIVIDUAL (18 AND OVER)</td>\n",
       "      <td>F</td>\n",
       "      <td>W</td>\n",
       "      <td>Non-Hispanic</td>\n",
       "      <td>RESIDENT</td>\n",
       "      <td>{'type': 'Point', 'coordinates': [-86.612, 36....</td>\n",
       "      <td>1</td>\n",
       "      <td>2</td>\n",
       "      <td>27</td>\n",
       "      <td>44</td>\n",
       "    </tr>\n",
       "    <tr>\n",
       "      <th>1</th>\n",
       "      <td>20220641203_11</td>\n",
       "      <td>20220641203</td>\n",
       "      <td>W</td>\n",
       "      <td>WITNESS</td>\n",
       "      <td>U</td>\n",
       "      <td>UNFOUNDED</td>\n",
       "      <td>Closed</td>\n",
       "      <td>2022-10-14T15:31:00.000</td>\n",
       "      <td>2022-10-14T15:31:00.000</td>\n",
       "      <td>5800 5800</td>\n",
       "      <td>...</td>\n",
       "      <td>INDIVIDUAL (18 AND OVER)</td>\n",
       "      <td>F</td>\n",
       "      <td>B</td>\n",
       "      <td>Non-Hispanic</td>\n",
       "      <td>RESIDENT</td>\n",
       "      <td>{'type': 'Point', 'coordinates': [-86.588, 36....</td>\n",
       "      <td>1</td>\n",
       "      <td>2</td>\n",
       "      <td>26</td>\n",
       "      <td>44</td>\n",
       "    </tr>\n",
       "  </tbody>\n",
       "</table>\n",
       "<p>2 rows × 33 columns</p>\n",
       "</div>"
      ],
      "text/plain": [
       "      primary_key incident_number report_type report_type_description  \\\n",
       "0  20220641257_11     20220641257           W                 WITNESS   \n",
       "1  20220641203_11     20220641203           W                 WITNESS   \n",
       "\n",
       "  incident_status_code incident_status_description investigation_status  \\\n",
       "0                    U                   UNFOUNDED               Closed   \n",
       "1                    U                   UNFOUNDED               Closed   \n",
       "\n",
       "         incident_occurred        incident_reported incident_location  ...  \\\n",
       "0  2022-10-14T16:00:00.000  2022-10-14T16:01:00.000         4343 4343  ...   \n",
       "1  2022-10-14T15:31:00.000  2022-10-14T15:31:00.000         5800 5800  ...   \n",
       "\n",
       "         victim_description victim_gender victim_race victim_ethnicity  \\\n",
       "0  INDIVIDUAL (18 AND OVER)             F           W     Non-Hispanic   \n",
       "1  INDIVIDUAL (18 AND OVER)             F           B     Non-Hispanic   \n",
       "\n",
       "  victim_county_resident                                    mapped_location  \\\n",
       "0               RESIDENT  {'type': 'Point', 'coordinates': [-86.612, 36....   \n",
       "1               RESIDENT  {'type': 'Point', 'coordinates': [-86.588, 36....   \n",
       "\n",
       "  :@computed_region_wvby_4s8j :@computed_region_3aw5_2wv7  \\\n",
       "0                           1                           2   \n",
       "1                           1                           2   \n",
       "\n",
       "  :@computed_region_p6sk_2acq :@computed_region_gxvr_9jxz  \n",
       "0                          27                          44  \n",
       "1                          26                          44  \n",
       "\n",
       "[2 rows x 33 columns]"
      ]
     },
     "execution_count": 2,
     "metadata": {},
     "output_type": "execute_result"
    }
   ],
   "source": [
    "endpoint = 'https://data.nashville.gov/resource/2u6v-ujjs.json'\n",
    "\n",
    "response = requests.get(endpoint)\n",
    "response\n",
    "res = response.json() \n",
    "res\n",
    "#response.text #this is not needed as the website sends a json object rather than the url object\n",
    "res #it is a list of dictionary\n",
    "\n",
    "#However, it will be easier to work with as a json. We can use the json method to convert the results to a dictionary.\n",
    "#res.keys() #so this will not work\n",
    "\n",
    "#as this is a list of dictionaries it can be directly converted to data frame using the pd.DataFrame code.\n",
    "df = pd.DataFrame(res)\n",
    "df.head(2)"
   ]
  },
  {
   "cell_type": "markdown",
   "id": "d894250c",
   "metadata": {},
   "source": [
    "## **Part1: Finding the aggravated burglary in Davidson county for the time period 01/01/2022 - 09/30/2022***\n",
    "    **we will create the response object using the url and the parameters. this website does not need an API key**"
   ]
  },
  {
   "cell_type": "code",
   "execution_count": 34,
   "id": "cf61d800",
   "metadata": {},
   "outputs": [
    {
     "data": {
      "text/plain": [
       "<Response [200]>"
      ]
     },
     "execution_count": 34,
     "metadata": {},
     "output_type": "execute_result"
    }
   ],
   "source": [
    "endpoint1 = 'https://data.nashville.gov/resource/2u6v-ujjs.json'\n",
    "\n",
    "params = {\n",
    "    \n",
    "    'offense_description' : 'BURGLARY- AGGRAVATED',\n",
    "    '$where' : \"incident_occurred between '2022-01-01T00:00:00' and '2022-09-30T23:59:59'\",\n",
    "    '$limit' : 10000\n",
    "    #'zip_code' : '37207' #we can add any parameter here\n",
    "}\n",
    "\n",
    "response1 = requests.get(endpoint1, params = params)\n",
    "\n",
    "response1"
   ]
  },
  {
   "cell_type": "markdown",
   "id": "93403a4a",
   "metadata": {},
   "source": [
    "#### Converting the resonse object into a json object"
   ]
  },
  {
   "cell_type": "code",
   "execution_count": 35,
   "id": "112a09cf",
   "metadata": {},
   "outputs": [],
   "source": [
    "res1 = response1.json()\n",
    "#res1"
   ]
  },
  {
   "cell_type": "markdown",
   "id": "12c67802",
   "metadata": {},
   "source": [
    "#### As this json is a list of dictionaries we are going to onvert it in df using the pd.DataFrame"
   ]
  },
  {
   "cell_type": "code",
   "execution_count": 36,
   "id": "1a1f5ef6",
   "metadata": {},
   "outputs": [
    {
     "data": {
      "text/plain": [
       "(1345, 31)"
      ]
     },
     "execution_count": 36,
     "metadata": {},
     "output_type": "execute_result"
    }
   ],
   "source": [
    "agg_burg = pd.DataFrame(res1)\n",
    "agg_burg.head(3)\n",
    "agg_burg.shape\n",
    "\n",
    "#We only have 1000 rows we need to increase this becuase this is restricted by the API and \n",
    "##there is a parameter that can be set to go upto 2000"
   ]
  },
  {
   "cell_type": "code",
   "execution_count": 37,
   "id": "5d2fdfa6",
   "metadata": {},
   "outputs": [
    {
     "data": {
      "text/plain": [
       "Index(['primary_key', 'incident_number', 'report_type',\n",
       "       'report_type_description', 'incident_status_code',\n",
       "       'incident_status_description', 'investigation_status',\n",
       "       'incident_occurred', 'incident_reported', 'incident_location',\n",
       "       'latitude', 'longitude', 'location_code', 'location_description',\n",
       "       'offense_number', 'offense_nibrs', 'offense_description',\n",
       "       'weapon_primary', 'weapon_description', 'victim_number',\n",
       "       'domestic_related', 'victim_type', 'victim_description',\n",
       "       'victim_gender', 'victim_race', 'victim_ethnicity',\n",
       "       'victim_county_resident', 'mapped_location', 'rpa', 'zone', 'zip_code'],\n",
       "      dtype='object')"
      ]
     },
     "execution_count": 37,
     "metadata": {},
     "output_type": "execute_result"
    }
   ],
   "source": [
    "agg_burg.columns\n",
    "#agg_burg[\"offense_description\"].value_counts()"
   ]
  },
  {
   "cell_type": "code",
   "execution_count": 38,
   "id": "30f97fd7",
   "metadata": {},
   "outputs": [
    {
     "data": {
      "text/plain": [
       "BURGLARY- AGGRAVATED    1345\n",
       "Name: offense_description, dtype: int64"
      ]
     },
     "execution_count": 38,
     "metadata": {},
     "output_type": "execute_result"
    }
   ],
   "source": [
    "agg_burg[\"offense_description\"].value_counts() #looking for the description it should only be BURGLARY- AGGRAVATED\n",
    "\n"
   ]
  },
  {
   "cell_type": "code",
   "execution_count": 39,
   "id": "0702501b",
   "metadata": {},
   "outputs": [
    {
     "data": {
      "text/plain": [
       "<bound method Series.unique of 0       BURGLARY- AGGRAVATED\n",
       "1       BURGLARY- AGGRAVATED\n",
       "2       BURGLARY- AGGRAVATED\n",
       "3       BURGLARY- AGGRAVATED\n",
       "4       BURGLARY- AGGRAVATED\n",
       "                ...         \n",
       "1340    BURGLARY- AGGRAVATED\n",
       "1341    BURGLARY- AGGRAVATED\n",
       "1342    BURGLARY- AGGRAVATED\n",
       "1343    BURGLARY- AGGRAVATED\n",
       "1344    BURGLARY- AGGRAVATED\n",
       "Name: offense_description, Length: 1345, dtype: object>"
      ]
     },
     "execution_count": 39,
     "metadata": {},
     "output_type": "execute_result"
    }
   ],
   "source": [
    "agg_burg.offense_description.unique"
   ]
  },
  {
   "cell_type": "markdown",
   "id": "96d7b325",
   "metadata": {},
   "source": [
    "# Pulling out the TN and Davivdsson county data for population and income"
   ]
  },
  {
   "cell_type": "markdown",
   "id": "183d750f",
   "metadata": {},
   "source": [
    "## Pulling out the Population using the link\n",
    "\n",
    "https://api.census.gov/data/2020/acs/acs5?get=NAME,B01001_001E&for=tract:*&in=county:037&in=state:47"
   ]
  },
  {
   "cell_type": "code",
   "execution_count": 40,
   "id": "e74f5ed6",
   "metadata": {},
   "outputs": [
    {
     "data": {
      "text/plain": [
       "<Response [200]>"
      ]
     },
     "execution_count": 40,
     "metadata": {},
     "output_type": "execute_result"
    }
   ],
   "source": [
    "endpoint_pop = 'https://api.census.gov/data/2020/acs/acs5?get=NAME,B01001_001E&for=tract:*&in=county:037&in=state:47'\n",
    "\n",
    "\n",
    "response_pop = requests.get(endpoint_pop)\n",
    ", \n",
    "response_pop"
   ]
  },
  {
   "cell_type": "markdown",
   "id": "b65485d3",
   "metadata": {},
   "source": [
    "## Creating the parameter key to read the website"
   ]
  },
  {
   "cell_type": "code",
   "execution_count": 41,
   "id": "b2ca163a",
   "metadata": {},
   "outputs": [
    {
     "data": {
      "text/plain": [
       "<Response [200]>"
      ]
     },
     "execution_count": 41,
     "metadata": {},
     "output_type": "execute_result"
    }
   ],
   "source": [
    "endpoint_pop = 'https://api.census.gov/data/2020/acs/acs5'\n",
    "\n",
    "#?get=NAME,B01001_001E&for=tract:*&in=county:037&in=state:47'\n",
    "\n",
    "params1 = {\n",
    "    'get' : 'NAME,B01001_001E',\n",
    "    'for' : 'tract',\n",
    "    'in' : 'county:037 state:47'\n",
    "}\n",
    "\n",
    "\n",
    "response_pop = requests.get(endpoint_pop, params = params1)\n",
    ", \n",
    "response_pop"
   ]
  },
  {
   "cell_type": "code",
   "execution_count": 42,
   "id": "c5bbf014",
   "metadata": {},
   "outputs": [
    {
     "data": {
      "text/html": [
       "<div>\n",
       "<style scoped>\n",
       "    .dataframe tbody tr th:only-of-type {\n",
       "        vertical-align: middle;\n",
       "    }\n",
       "\n",
       "    .dataframe tbody tr th {\n",
       "        vertical-align: top;\n",
       "    }\n",
       "\n",
       "    .dataframe thead th {\n",
       "        text-align: right;\n",
       "    }\n",
       "</style>\n",
       "<table border=\"1\" class=\"dataframe\">\n",
       "  <thead>\n",
       "    <tr style=\"text-align: right;\">\n",
       "      <th></th>\n",
       "      <th>0</th>\n",
       "      <th>1</th>\n",
       "      <th>2</th>\n",
       "      <th>3</th>\n",
       "      <th>4</th>\n",
       "    </tr>\n",
       "  </thead>\n",
       "  <tbody>\n",
       "    <tr>\n",
       "      <th>0</th>\n",
       "      <td>NAME</td>\n",
       "      <td>B01001_001E</td>\n",
       "      <td>state</td>\n",
       "      <td>county</td>\n",
       "      <td>tract</td>\n",
       "    </tr>\n",
       "    <tr>\n",
       "      <th>1</th>\n",
       "      <td>Census Tract 190.04, Davidson County, Tennessee</td>\n",
       "      <td>4470</td>\n",
       "      <td>47</td>\n",
       "      <td>037</td>\n",
       "      <td>019004</td>\n",
       "    </tr>\n",
       "    <tr>\n",
       "      <th>2</th>\n",
       "      <td>Census Tract 190.07, Davidson County, Tennessee</td>\n",
       "      <td>2904</td>\n",
       "      <td>47</td>\n",
       "      <td>037</td>\n",
       "      <td>019007</td>\n",
       "    </tr>\n",
       "  </tbody>\n",
       "</table>\n",
       "</div>"
      ],
      "text/plain": [
       "                                                 0            1      2  \\\n",
       "0                                             NAME  B01001_001E  state   \n",
       "1  Census Tract 190.04, Davidson County, Tennessee         4470     47   \n",
       "2  Census Tract 190.07, Davidson County, Tennessee         2904     47   \n",
       "\n",
       "        3       4  \n",
       "0  county   tract  \n",
       "1     037  019004  \n",
       "2     037  019007  "
      ]
     },
     "execution_count": 42,
     "metadata": {},
     "output_type": "execute_result"
    }
   ],
   "source": [
    "response_pop.text\n",
    "res_pop = response_pop.json()\n",
    "TNDA_pop = pd.DataFrame(res_pop)\n",
    "TNDA_pop.head(3)\n",
    "#TNDA_pop.shape"
   ]
  },
  {
   "cell_type": "code",
   "execution_count": 43,
   "id": "002d0195",
   "metadata": {},
   "outputs": [
    {
     "data": {
      "text/html": [
       "<div>\n",
       "<style scoped>\n",
       "    .dataframe tbody tr th:only-of-type {\n",
       "        vertical-align: middle;\n",
       "    }\n",
       "\n",
       "    .dataframe tbody tr th {\n",
       "        vertical-align: top;\n",
       "    }\n",
       "\n",
       "    .dataframe thead th {\n",
       "        text-align: right;\n",
       "    }\n",
       "</style>\n",
       "<table border=\"1\" class=\"dataframe\">\n",
       "  <thead>\n",
       "    <tr style=\"text-align: right;\">\n",
       "      <th></th>\n",
       "      <th>NAME</th>\n",
       "      <th>B01001_001E</th>\n",
       "      <th>state</th>\n",
       "      <th>county</th>\n",
       "      <th>tract</th>\n",
       "    </tr>\n",
       "  </thead>\n",
       "  <tbody>\n",
       "    <tr>\n",
       "      <th>1</th>\n",
       "      <td>Census Tract 190.04, Davidson County, Tennessee</td>\n",
       "      <td>4470</td>\n",
       "      <td>47</td>\n",
       "      <td>037</td>\n",
       "      <td>019004</td>\n",
       "    </tr>\n",
       "    <tr>\n",
       "      <th>2</th>\n",
       "      <td>Census Tract 190.07, Davidson County, Tennessee</td>\n",
       "      <td>2904</td>\n",
       "      <td>47</td>\n",
       "      <td>037</td>\n",
       "      <td>019007</td>\n",
       "    </tr>\n",
       "    <tr>\n",
       "      <th>3</th>\n",
       "      <td>Census Tract 190.08, Davidson County, Tennessee</td>\n",
       "      <td>6005</td>\n",
       "      <td>47</td>\n",
       "      <td>037</td>\n",
       "      <td>019008</td>\n",
       "    </tr>\n",
       "    <tr>\n",
       "      <th>4</th>\n",
       "      <td>Census Tract 191.05, Davidson County, Tennessee</td>\n",
       "      <td>5707</td>\n",
       "      <td>47</td>\n",
       "      <td>037</td>\n",
       "      <td>019105</td>\n",
       "    </tr>\n",
       "    <tr>\n",
       "      <th>5</th>\n",
       "      <td>Census Tract 191.06, Davidson County, Tennessee</td>\n",
       "      <td>4336</td>\n",
       "      <td>47</td>\n",
       "      <td>037</td>\n",
       "      <td>019106</td>\n",
       "    </tr>\n",
       "  </tbody>\n",
       "</table>\n",
       "</div>"
      ],
      "text/plain": [
       "0                                             NAME B01001_001E state county  \\\n",
       "1  Census Tract 190.04, Davidson County, Tennessee        4470    47    037   \n",
       "2  Census Tract 190.07, Davidson County, Tennessee        2904    47    037   \n",
       "3  Census Tract 190.08, Davidson County, Tennessee        6005    47    037   \n",
       "4  Census Tract 191.05, Davidson County, Tennessee        5707    47    037   \n",
       "5  Census Tract 191.06, Davidson County, Tennessee        4336    47    037   \n",
       "\n",
       "0   tract  \n",
       "1  019004  \n",
       "2  019007  \n",
       "3  019008  \n",
       "4  019105  \n",
       "5  019106  "
      ]
     },
     "execution_count": 43,
     "metadata": {},
     "output_type": "execute_result"
    }
   ],
   "source": [
    "# as the header row has the numbers 1, 2,not the names we are going to change it with the first row which is a header title\n",
    "header = TNDA_pop.iloc[0] #pull the row 1 in a list called header\n",
    "TNDA_pop = TNDA_pop[1:] #delete the row 0 which is now becoming the header and start the df from row 1 pands count from 0,1\n",
    "TNDA_pop.columns = header\n",
    "TNDA_pop.head()"
   ]
  },
  {
   "cell_type": "code",
   "execution_count": 44,
   "id": "bc0588d9",
   "metadata": {},
   "outputs": [
    {
     "data": {
      "text/html": [
       "<div>\n",
       "<style scoped>\n",
       "    .dataframe tbody tr th:only-of-type {\n",
       "        vertical-align: middle;\n",
       "    }\n",
       "\n",
       "    .dataframe tbody tr th {\n",
       "        vertical-align: top;\n",
       "    }\n",
       "\n",
       "    .dataframe thead th {\n",
       "        text-align: right;\n",
       "    }\n",
       "</style>\n",
       "<table border=\"1\" class=\"dataframe\">\n",
       "  <thead>\n",
       "    <tr style=\"text-align: right;\">\n",
       "      <th></th>\n",
       "      <th>NAME</th>\n",
       "      <th>Population</th>\n",
       "      <th>state</th>\n",
       "      <th>county</th>\n",
       "      <th>tract</th>\n",
       "    </tr>\n",
       "  </thead>\n",
       "  <tbody>\n",
       "    <tr>\n",
       "      <th>1</th>\n",
       "      <td>Census Tract 190.04, Davidson County, Tennessee</td>\n",
       "      <td>4470</td>\n",
       "      <td>47</td>\n",
       "      <td>037</td>\n",
       "      <td>019004</td>\n",
       "    </tr>\n",
       "    <tr>\n",
       "      <th>2</th>\n",
       "      <td>Census Tract 190.07, Davidson County, Tennessee</td>\n",
       "      <td>2904</td>\n",
       "      <td>47</td>\n",
       "      <td>037</td>\n",
       "      <td>019007</td>\n",
       "    </tr>\n",
       "    <tr>\n",
       "      <th>3</th>\n",
       "      <td>Census Tract 190.08, Davidson County, Tennessee</td>\n",
       "      <td>6005</td>\n",
       "      <td>47</td>\n",
       "      <td>037</td>\n",
       "      <td>019008</td>\n",
       "    </tr>\n",
       "    <tr>\n",
       "      <th>4</th>\n",
       "      <td>Census Tract 191.05, Davidson County, Tennessee</td>\n",
       "      <td>5707</td>\n",
       "      <td>47</td>\n",
       "      <td>037</td>\n",
       "      <td>019105</td>\n",
       "    </tr>\n",
       "    <tr>\n",
       "      <th>5</th>\n",
       "      <td>Census Tract 191.06, Davidson County, Tennessee</td>\n",
       "      <td>4336</td>\n",
       "      <td>47</td>\n",
       "      <td>037</td>\n",
       "      <td>019106</td>\n",
       "    </tr>\n",
       "  </tbody>\n",
       "</table>\n",
       "</div>"
      ],
      "text/plain": [
       "0                                             NAME Population state county  \\\n",
       "1  Census Tract 190.04, Davidson County, Tennessee       4470    47    037   \n",
       "2  Census Tract 190.07, Davidson County, Tennessee       2904    47    037   \n",
       "3  Census Tract 190.08, Davidson County, Tennessee       6005    47    037   \n",
       "4  Census Tract 191.05, Davidson County, Tennessee       5707    47    037   \n",
       "5  Census Tract 191.06, Davidson County, Tennessee       4336    47    037   \n",
       "\n",
       "0   tract  \n",
       "1  019004  \n",
       "2  019007  \n",
       "3  019008  \n",
       "4  019105  \n",
       "5  019106  "
      ]
     },
     "execution_count": 44,
     "metadata": {},
     "output_type": "execute_result"
    }
   ],
   "source": [
    "#Renaming the column B01001_00IE as population\n",
    "\n",
    "TNDA_pop = TNDA_pop.rename(columns={'B01001_001E':'Population'})\n",
    "TNDA_pop.head()\n"
   ]
  },
  {
   "cell_type": "markdown",
   "id": "55c7925b",
   "metadata": {},
   "source": [
    "## Pulling out the TN and Davivdsson county data forincome\n",
    "https://api.census.gov/data/2020/acs/acs5/subject?get=NAME,S1901_C01_012E&for=tract:*&in=state:47&in=county:037"
   ]
  },
  {
   "cell_type": "code",
   "execution_count": 45,
   "id": "5f6b6468",
   "metadata": {},
   "outputs": [
    {
     "data": {
      "text/html": [
       "<div>\n",
       "<style scoped>\n",
       "    .dataframe tbody tr th:only-of-type {\n",
       "        vertical-align: middle;\n",
       "    }\n",
       "\n",
       "    .dataframe tbody tr th {\n",
       "        vertical-align: top;\n",
       "    }\n",
       "\n",
       "    .dataframe thead th {\n",
       "        text-align: right;\n",
       "    }\n",
       "</style>\n",
       "<table border=\"1\" class=\"dataframe\">\n",
       "  <thead>\n",
       "    <tr style=\"text-align: right;\">\n",
       "      <th></th>\n",
       "      <th>0</th>\n",
       "      <th>1</th>\n",
       "      <th>2</th>\n",
       "      <th>3</th>\n",
       "      <th>4</th>\n",
       "    </tr>\n",
       "  </thead>\n",
       "  <tbody>\n",
       "    <tr>\n",
       "      <th>0</th>\n",
       "      <td>NAME</td>\n",
       "      <td>S1901_C01_012E</td>\n",
       "      <td>state</td>\n",
       "      <td>county</td>\n",
       "      <td>tract</td>\n",
       "    </tr>\n",
       "    <tr>\n",
       "      <th>1</th>\n",
       "      <td>Census Tract 190.04, Davidson County, Tennessee</td>\n",
       "      <td>44001</td>\n",
       "      <td>47</td>\n",
       "      <td>037</td>\n",
       "      <td>019004</td>\n",
       "    </tr>\n",
       "    <tr>\n",
       "      <th>2</th>\n",
       "      <td>Census Tract 190.07, Davidson County, Tennessee</td>\n",
       "      <td>48485</td>\n",
       "      <td>47</td>\n",
       "      <td>037</td>\n",
       "      <td>019007</td>\n",
       "    </tr>\n",
       "    <tr>\n",
       "      <th>3</th>\n",
       "      <td>Census Tract 190.08, Davidson County, Tennessee</td>\n",
       "      <td>50512</td>\n",
       "      <td>47</td>\n",
       "      <td>037</td>\n",
       "      <td>019008</td>\n",
       "    </tr>\n",
       "    <tr>\n",
       "      <th>4</th>\n",
       "      <td>Census Tract 191.05, Davidson County, Tennessee</td>\n",
       "      <td>48271</td>\n",
       "      <td>47</td>\n",
       "      <td>037</td>\n",
       "      <td>019105</td>\n",
       "    </tr>\n",
       "  </tbody>\n",
       "</table>\n",
       "</div>"
      ],
      "text/plain": [
       "                                                 0               1      2  \\\n",
       "0                                             NAME  S1901_C01_012E  state   \n",
       "1  Census Tract 190.04, Davidson County, Tennessee           44001     47   \n",
       "2  Census Tract 190.07, Davidson County, Tennessee           48485     47   \n",
       "3  Census Tract 190.08, Davidson County, Tennessee           50512     47   \n",
       "4  Census Tract 191.05, Davidson County, Tennessee           48271     47   \n",
       "\n",
       "        3       4  \n",
       "0  county   tract  \n",
       "1     037  019004  \n",
       "2     037  019007  \n",
       "3     037  019008  \n",
       "4     037  019105  "
      ]
     },
     "execution_count": 45,
     "metadata": {},
     "output_type": "execute_result"
    }
   ],
   "source": [
    "endpoint_inc = 'https://api.census.gov/data/2020/acs/acs5/subject'\n",
    "\n",
    "#?get=NAME,S1901_C01_012E&for=tract:*&in=county:037&in=state:47'\n",
    "\n",
    "params2 = {\n",
    "    'get' : 'NAME,S1901_C01_012E',\n",
    "    'for' : 'tract',\n",
    "    'in' : 'county:037 state:47'\n",
    "}\n",
    "response_inc = requests.get(endpoint_inc, params = params2)\n",
    "\n",
    "response_inc.text\n",
    "\n",
    "res_inc = response_inc.json()\n",
    "res_inc\n",
    "TNDA_inc = pd.DataFrame(res_inc)\n",
    "TNDA_inc.head()\n",
    "#TNDA_inc.shape (175, 5)"
   ]
  },
  {
   "cell_type": "code",
   "execution_count": 46,
   "id": "e48680d0",
   "metadata": {},
   "outputs": [
    {
     "data": {
      "text/html": [
       "<div>\n",
       "<style scoped>\n",
       "    .dataframe tbody tr th:only-of-type {\n",
       "        vertical-align: middle;\n",
       "    }\n",
       "\n",
       "    .dataframe tbody tr th {\n",
       "        vertical-align: top;\n",
       "    }\n",
       "\n",
       "    .dataframe thead th {\n",
       "        text-align: right;\n",
       "    }\n",
       "</style>\n",
       "<table border=\"1\" class=\"dataframe\">\n",
       "  <thead>\n",
       "    <tr style=\"text-align: right;\">\n",
       "      <th></th>\n",
       "      <th>NAME</th>\n",
       "      <th>S1901_C01_012E</th>\n",
       "      <th>state</th>\n",
       "      <th>county</th>\n",
       "      <th>tract</th>\n",
       "    </tr>\n",
       "  </thead>\n",
       "  <tbody>\n",
       "    <tr>\n",
       "      <th>1</th>\n",
       "      <td>Census Tract 190.04, Davidson County, Tennessee</td>\n",
       "      <td>44001</td>\n",
       "      <td>47</td>\n",
       "      <td>037</td>\n",
       "      <td>019004</td>\n",
       "    </tr>\n",
       "    <tr>\n",
       "      <th>2</th>\n",
       "      <td>Census Tract 190.07, Davidson County, Tennessee</td>\n",
       "      <td>48485</td>\n",
       "      <td>47</td>\n",
       "      <td>037</td>\n",
       "      <td>019007</td>\n",
       "    </tr>\n",
       "    <tr>\n",
       "      <th>3</th>\n",
       "      <td>Census Tract 190.08, Davidson County, Tennessee</td>\n",
       "      <td>50512</td>\n",
       "      <td>47</td>\n",
       "      <td>037</td>\n",
       "      <td>019008</td>\n",
       "    </tr>\n",
       "    <tr>\n",
       "      <th>4</th>\n",
       "      <td>Census Tract 191.05, Davidson County, Tennessee</td>\n",
       "      <td>48271</td>\n",
       "      <td>47</td>\n",
       "      <td>037</td>\n",
       "      <td>019105</td>\n",
       "    </tr>\n",
       "    <tr>\n",
       "      <th>5</th>\n",
       "      <td>Census Tract 191.06, Davidson County, Tennessee</td>\n",
       "      <td>65323</td>\n",
       "      <td>47</td>\n",
       "      <td>037</td>\n",
       "      <td>019106</td>\n",
       "    </tr>\n",
       "  </tbody>\n",
       "</table>\n",
       "</div>"
      ],
      "text/plain": [
       "0                                             NAME S1901_C01_012E state  \\\n",
       "1  Census Tract 190.04, Davidson County, Tennessee          44001    47   \n",
       "2  Census Tract 190.07, Davidson County, Tennessee          48485    47   \n",
       "3  Census Tract 190.08, Davidson County, Tennessee          50512    47   \n",
       "4  Census Tract 191.05, Davidson County, Tennessee          48271    47   \n",
       "5  Census Tract 191.06, Davidson County, Tennessee          65323    47   \n",
       "\n",
       "0 county   tract  \n",
       "1    037  019004  \n",
       "2    037  019007  \n",
       "3    037  019008  \n",
       "4    037  019105  \n",
       "5    037  019106  "
      ]
     },
     "execution_count": 46,
     "metadata": {},
     "output_type": "execute_result"
    }
   ],
   "source": [
    "## Naming the columns same as done for the pop because the header row is missing.\n",
    "header = TNDA_inc.iloc[0] #pull the row 1 in a list called header\n",
    "TNDA_inc = TNDA_inc[1:] #delete the row 0 which is now becoming the header and start the df from row 1 pands count from 0,1\n",
    "TNDA_inc.columns = header\n",
    "TNDA_inc.head()"
   ]
  },
  {
   "cell_type": "code",
   "execution_count": 47,
   "id": "0098c8e4",
   "metadata": {},
   "outputs": [
    {
     "data": {
      "text/html": [
       "<div>\n",
       "<style scoped>\n",
       "    .dataframe tbody tr th:only-of-type {\n",
       "        vertical-align: middle;\n",
       "    }\n",
       "\n",
       "    .dataframe tbody tr th {\n",
       "        vertical-align: top;\n",
       "    }\n",
       "\n",
       "    .dataframe thead th {\n",
       "        text-align: right;\n",
       "    }\n",
       "</style>\n",
       "<table border=\"1\" class=\"dataframe\">\n",
       "  <thead>\n",
       "    <tr style=\"text-align: right;\">\n",
       "      <th></th>\n",
       "      <th>NAME</th>\n",
       "      <th>MedianIncome</th>\n",
       "      <th>state</th>\n",
       "      <th>county</th>\n",
       "      <th>tract</th>\n",
       "    </tr>\n",
       "  </thead>\n",
       "  <tbody>\n",
       "    <tr>\n",
       "      <th>1</th>\n",
       "      <td>Census Tract 190.04, Davidson County, Tennessee</td>\n",
       "      <td>44001</td>\n",
       "      <td>47</td>\n",
       "      <td>037</td>\n",
       "      <td>019004</td>\n",
       "    </tr>\n",
       "    <tr>\n",
       "      <th>2</th>\n",
       "      <td>Census Tract 190.07, Davidson County, Tennessee</td>\n",
       "      <td>48485</td>\n",
       "      <td>47</td>\n",
       "      <td>037</td>\n",
       "      <td>019007</td>\n",
       "    </tr>\n",
       "    <tr>\n",
       "      <th>3</th>\n",
       "      <td>Census Tract 190.08, Davidson County, Tennessee</td>\n",
       "      <td>50512</td>\n",
       "      <td>47</td>\n",
       "      <td>037</td>\n",
       "      <td>019008</td>\n",
       "    </tr>\n",
       "    <tr>\n",
       "      <th>4</th>\n",
       "      <td>Census Tract 191.05, Davidson County, Tennessee</td>\n",
       "      <td>48271</td>\n",
       "      <td>47</td>\n",
       "      <td>037</td>\n",
       "      <td>019105</td>\n",
       "    </tr>\n",
       "    <tr>\n",
       "      <th>5</th>\n",
       "      <td>Census Tract 191.06, Davidson County, Tennessee</td>\n",
       "      <td>65323</td>\n",
       "      <td>47</td>\n",
       "      <td>037</td>\n",
       "      <td>019106</td>\n",
       "    </tr>\n",
       "  </tbody>\n",
       "</table>\n",
       "</div>"
      ],
      "text/plain": [
       "0                                             NAME MedianIncome state county  \\\n",
       "1  Census Tract 190.04, Davidson County, Tennessee        44001    47    037   \n",
       "2  Census Tract 190.07, Davidson County, Tennessee        48485    47    037   \n",
       "3  Census Tract 190.08, Davidson County, Tennessee        50512    47    037   \n",
       "4  Census Tract 191.05, Davidson County, Tennessee        48271    47    037   \n",
       "5  Census Tract 191.06, Davidson County, Tennessee        65323    47    037   \n",
       "\n",
       "0   tract  \n",
       "1  019004  \n",
       "2  019007  \n",
       "3  019008  \n",
       "4  019105  \n",
       "5  019106  "
      ]
     },
     "execution_count": 47,
     "metadata": {},
     "output_type": "execute_result"
    }
   ],
   "source": [
    "#Renaming the column S1901_C01_012E as population\n",
    "\n",
    "TNDA_inc = TNDA_inc.rename(columns={'S1901_C01_012E':'MedianIncome'})\n",
    "TNDA_inc.head()"
   ]
  },
  {
   "cell_type": "markdown",
   "id": "181cb91d",
   "metadata": {},
   "source": [
    "## Merging the POP and INC data"
   ]
  },
  {
   "cell_type": "code",
   "execution_count": 48,
   "id": "d6e65a0f",
   "metadata": {},
   "outputs": [
    {
     "data": {
      "text/html": [
       "<div>\n",
       "<style scoped>\n",
       "    .dataframe tbody tr th:only-of-type {\n",
       "        vertical-align: middle;\n",
       "    }\n",
       "\n",
       "    .dataframe tbody tr th {\n",
       "        vertical-align: top;\n",
       "    }\n",
       "\n",
       "    .dataframe thead th {\n",
       "        text-align: right;\n",
       "    }\n",
       "</style>\n",
       "<table border=\"1\" class=\"dataframe\">\n",
       "  <thead>\n",
       "    <tr style=\"text-align: right;\">\n",
       "      <th></th>\n",
       "      <th>NAME</th>\n",
       "      <th>Population</th>\n",
       "      <th>state</th>\n",
       "      <th>county</th>\n",
       "      <th>tract</th>\n",
       "      <th>MedianIncome</th>\n",
       "    </tr>\n",
       "  </thead>\n",
       "  <tbody>\n",
       "    <tr>\n",
       "      <th>0</th>\n",
       "      <td>Census Tract 190.04, Davidson County, Tennessee</td>\n",
       "      <td>4470</td>\n",
       "      <td>47</td>\n",
       "      <td>037</td>\n",
       "      <td>019004</td>\n",
       "      <td>44001</td>\n",
       "    </tr>\n",
       "    <tr>\n",
       "      <th>1</th>\n",
       "      <td>Census Tract 190.07, Davidson County, Tennessee</td>\n",
       "      <td>2904</td>\n",
       "      <td>47</td>\n",
       "      <td>037</td>\n",
       "      <td>019007</td>\n",
       "      <td>48485</td>\n",
       "    </tr>\n",
       "    <tr>\n",
       "      <th>2</th>\n",
       "      <td>Census Tract 190.08, Davidson County, Tennessee</td>\n",
       "      <td>6005</td>\n",
       "      <td>47</td>\n",
       "      <td>037</td>\n",
       "      <td>019008</td>\n",
       "      <td>50512</td>\n",
       "    </tr>\n",
       "  </tbody>\n",
       "</table>\n",
       "</div>"
      ],
      "text/plain": [
       "0                                             NAME Population state county  \\\n",
       "0  Census Tract 190.04, Davidson County, Tennessee       4470    47    037   \n",
       "1  Census Tract 190.07, Davidson County, Tennessee       2904    47    037   \n",
       "2  Census Tract 190.08, Davidson County, Tennessee       6005    47    037   \n",
       "\n",
       "0   tract MedianIncome  \n",
       "0  019004        44001  \n",
       "1  019007        48485  \n",
       "2  019008        50512  "
      ]
     },
     "execution_count": 48,
     "metadata": {},
     "output_type": "execute_result"
    }
   ],
   "source": [
    "TNDA_pop_inc = pd.merge(TNDA_pop, TNDA_inc, on=['NAME', 'state', 'county', 'tract'])\n",
    "TNDA_pop_inc.shape #(174, 6)\n",
    "TNDA_pop_inc.head(3)"
   ]
  },
  {
   "cell_type": "code",
   "execution_count": 49,
   "id": "c655ad04",
   "metadata": {},
   "outputs": [
    {
     "data": {
      "text/plain": [
       "174"
      ]
     },
     "execution_count": 49,
     "metadata": {},
     "output_type": "execute_result"
    }
   ],
   "source": [
    "TNDA_pop_inc['tract'].nunique()"
   ]
  },
  {
   "cell_type": "markdown",
   "id": "48842420",
   "metadata": {},
   "source": [
    "# PART 2\n",
    "\n",
    "**Note: Make sure notebook is launched from the conda prompt in the geospatial environment after activating the it using 'conda activate geospatial_ds6' and then 'jupyter notebook'**"
   ]
  },
  {
   "cell_type": "markdown",
   "id": "e37d8efe",
   "metadata": {},
   "source": [
    "**Part 2 - Spatial Joining and Data Merging**\n",
    "Download the 2020 census tract shapefiles for Tennessee from https://www.census.gov/geographies/mapping-files/time-series/geo/tiger-line-file.2020.html. (The FIPS code for Tennessee is 47). Perform a spatial join to determine the census tract in which each burglary incident occurred.\n",
    "\n",
    "Aggregate the data by census tract. Warning: each incident can appear multiple times if there are multiple victims, so be sure that you aren't double-counting any incidents. Which census tract had the highest number of burglaries? Which census tract had the highest number of burglaries per 1000 residents? Note: Make sure that you keep all census tracts, not just those that have had a burglary.\n",
    "\n",
    "Merge in the census data that you gathered in question 2. Remove any rows that have zero population or negative median income values."
   ]
  },
  {
   "cell_type": "code",
   "execution_count": 50,
   "id": "77fd4cf9",
   "metadata": {},
   "outputs": [],
   "source": [
    "import geopandas as gpd"
   ]
  },
  {
   "cell_type": "code",
   "execution_count": 51,
   "id": "700d6982",
   "metadata": {
    "scrolled": true
   },
   "outputs": [
    {
     "data": {
      "text/html": [
       "<div>\n",
       "<style scoped>\n",
       "    .dataframe tbody tr th:only-of-type {\n",
       "        vertical-align: middle;\n",
       "    }\n",
       "\n",
       "    .dataframe tbody tr th {\n",
       "        vertical-align: top;\n",
       "    }\n",
       "\n",
       "    .dataframe thead th {\n",
       "        text-align: right;\n",
       "    }\n",
       "</style>\n",
       "<table border=\"1\" class=\"dataframe\">\n",
       "  <thead>\n",
       "    <tr style=\"text-align: right;\">\n",
       "      <th></th>\n",
       "      <th>STATEFP</th>\n",
       "      <th>COUNTYFP</th>\n",
       "      <th>TRACTCE</th>\n",
       "      <th>GEOID</th>\n",
       "      <th>NAME</th>\n",
       "      <th>NAMELSAD</th>\n",
       "      <th>MTFCC</th>\n",
       "      <th>FUNCSTAT</th>\n",
       "      <th>ALAND</th>\n",
       "      <th>AWATER</th>\n",
       "      <th>INTPTLAT</th>\n",
       "      <th>INTPTLON</th>\n",
       "      <th>geometry</th>\n",
       "    </tr>\n",
       "  </thead>\n",
       "  <tbody>\n",
       "    <tr>\n",
       "      <th>0</th>\n",
       "      <td>47</td>\n",
       "      <td>175</td>\n",
       "      <td>925200</td>\n",
       "      <td>47175925200</td>\n",
       "      <td>9252</td>\n",
       "      <td>Census Tract 9252</td>\n",
       "      <td>G5020</td>\n",
       "      <td>S</td>\n",
       "      <td>227429512</td>\n",
       "      <td>1667739</td>\n",
       "      <td>+35.7438100</td>\n",
       "      <td>-085.4940227</td>\n",
       "      <td>POLYGON ((-85.61516 35.76106, -85.61509 35.761...</td>\n",
       "    </tr>\n",
       "    <tr>\n",
       "      <th>1</th>\n",
       "      <td>47</td>\n",
       "      <td>175</td>\n",
       "      <td>925000</td>\n",
       "      <td>47175925000</td>\n",
       "      <td>9250</td>\n",
       "      <td>Census Tract 9250</td>\n",
       "      <td>G5020</td>\n",
       "      <td>S</td>\n",
       "      <td>480712883</td>\n",
       "      <td>1225717</td>\n",
       "      <td>+35.6695378</td>\n",
       "      <td>-085.4220628</td>\n",
       "      <td>POLYGON ((-85.60513 35.70854, -85.60511 35.708...</td>\n",
       "    </tr>\n",
       "    <tr>\n",
       "      <th>2</th>\n",
       "      <td>47</td>\n",
       "      <td>003</td>\n",
       "      <td>950201</td>\n",
       "      <td>47003950201</td>\n",
       "      <td>9502.01</td>\n",
       "      <td>Census Tract 9502.01</td>\n",
       "      <td>G5020</td>\n",
       "      <td>S</td>\n",
       "      <td>121774227</td>\n",
       "      <td>0</td>\n",
       "      <td>+35.6517480</td>\n",
       "      <td>-086.5575518</td>\n",
       "      <td>POLYGON ((-86.64406 35.64029, -86.64375 35.642...</td>\n",
       "    </tr>\n",
       "    <tr>\n",
       "      <th>3</th>\n",
       "      <td>47</td>\n",
       "      <td>003</td>\n",
       "      <td>950202</td>\n",
       "      <td>47003950202</td>\n",
       "      <td>9502.02</td>\n",
       "      <td>Census Tract 9502.02</td>\n",
       "      <td>G5020</td>\n",
       "      <td>S</td>\n",
       "      <td>110617191</td>\n",
       "      <td>700793</td>\n",
       "      <td>+35.5845755</td>\n",
       "      <td>-086.5790796</td>\n",
       "      <td>POLYGON ((-86.66377 35.58189, -86.66367 35.582...</td>\n",
       "    </tr>\n",
       "    <tr>\n",
       "      <th>4</th>\n",
       "      <td>47</td>\n",
       "      <td>093</td>\n",
       "      <td>003300</td>\n",
       "      <td>47093003300</td>\n",
       "      <td>33</td>\n",
       "      <td>Census Tract 33</td>\n",
       "      <td>G5020</td>\n",
       "      <td>S</td>\n",
       "      <td>5860088</td>\n",
       "      <td>229299</td>\n",
       "      <td>+36.0020586</td>\n",
       "      <td>-083.8371218</td>\n",
       "      <td>POLYGON ((-83.86208 35.99255, -83.86207 35.992...</td>\n",
       "    </tr>\n",
       "  </tbody>\n",
       "</table>\n",
       "</div>"
      ],
      "text/plain": [
       "  STATEFP COUNTYFP TRACTCE        GEOID     NAME              NAMELSAD  MTFCC  \\\n",
       "0      47      175  925200  47175925200     9252     Census Tract 9252  G5020   \n",
       "1      47      175  925000  47175925000     9250     Census Tract 9250  G5020   \n",
       "2      47      003  950201  47003950201  9502.01  Census Tract 9502.01  G5020   \n",
       "3      47      003  950202  47003950202  9502.02  Census Tract 9502.02  G5020   \n",
       "4      47      093  003300  47093003300       33       Census Tract 33  G5020   \n",
       "\n",
       "  FUNCSTAT      ALAND   AWATER     INTPTLAT      INTPTLON  \\\n",
       "0        S  227429512  1667739  +35.7438100  -085.4940227   \n",
       "1        S  480712883  1225717  +35.6695378  -085.4220628   \n",
       "2        S  121774227        0  +35.6517480  -086.5575518   \n",
       "3        S  110617191   700793  +35.5845755  -086.5790796   \n",
       "4        S    5860088   229299  +36.0020586  -083.8371218   \n",
       "\n",
       "                                            geometry  \n",
       "0  POLYGON ((-85.61516 35.76106, -85.61509 35.761...  \n",
       "1  POLYGON ((-85.60513 35.70854, -85.60511 35.708...  \n",
       "2  POLYGON ((-86.64406 35.64029, -86.64375 35.642...  \n",
       "3  POLYGON ((-86.66377 35.58189, -86.66367 35.582...  \n",
       "4  POLYGON ((-83.86208 35.99255, -83.86207 35.992...  "
      ]
     },
     "execution_count": 51,
     "metadata": {},
     "output_type": "execute_result"
    }
   ],
   "source": [
    "TN_shape = gpd.read_file('./TN2020_census_shapefiles/')\n",
    "TN_shape.head()\n",
    "#TN_shape.shape #(1701, 13)"
   ]
  },
  {
   "cell_type": "markdown",
   "id": "a47a9797",
   "metadata": {},
   "source": [
    "# Step  to prepare the Burgg data so that it ca be mapped\n",
    "1. create the geometry column  using the longitiute annd latitude column\n",
    "2. use the geometry column and TN_shape file as crs to convert the agg_burg to a geodata frame so that it can be merged\n",
    "3. Merging the TN_burgg to TN shape file \n"
   ]
  },
  {
   "cell_type": "code",
   "execution_count": 52,
   "id": "38b3de5c",
   "metadata": {},
   "outputs": [
    {
     "data": {
      "text/plain": [
       "Index(['primary_key', 'incident_number', 'report_type',\n",
       "       'report_type_description', 'incident_status_code',\n",
       "       'incident_status_description', 'investigation_status',\n",
       "       'incident_occurred', 'incident_reported', 'incident_location',\n",
       "       'latitude', 'longitude', 'location_code', 'location_description',\n",
       "       'offense_number', 'offense_nibrs', 'offense_description',\n",
       "       'weapon_primary', 'weapon_description', 'victim_number',\n",
       "       'domestic_related', 'victim_type', 'victim_description',\n",
       "       'victim_gender', 'victim_race', 'victim_ethnicity',\n",
       "       'victim_county_resident', 'mapped_location', 'rpa', 'zone', 'zip_code'],\n",
       "      dtype='object')"
      ]
     },
     "execution_count": 52,
     "metadata": {},
     "output_type": "execute_result"
    }
   ],
   "source": [
    "agg_burg.head\n",
    "agg_burg.columns"
   ]
  },
  {
   "cell_type": "code",
   "execution_count": 53,
   "id": "96857a9d",
   "metadata": {},
   "outputs": [
    {
     "data": {
      "text/html": [
       "<div>\n",
       "<style scoped>\n",
       "    .dataframe tbody tr th:only-of-type {\n",
       "        vertical-align: middle;\n",
       "    }\n",
       "\n",
       "    .dataframe tbody tr th {\n",
       "        vertical-align: top;\n",
       "    }\n",
       "\n",
       "    .dataframe thead th {\n",
       "        text-align: right;\n",
       "    }\n",
       "</style>\n",
       "<table border=\"1\" class=\"dataframe\">\n",
       "  <thead>\n",
       "    <tr style=\"text-align: right;\">\n",
       "      <th></th>\n",
       "      <th>primary_key</th>\n",
       "      <th>incident_number</th>\n",
       "      <th>report_type</th>\n",
       "      <th>report_type_description</th>\n",
       "      <th>incident_status_code</th>\n",
       "      <th>incident_status_description</th>\n",
       "      <th>investigation_status</th>\n",
       "      <th>incident_occurred</th>\n",
       "      <th>incident_reported</th>\n",
       "      <th>incident_location</th>\n",
       "      <th>...</th>\n",
       "      <th>victim_description</th>\n",
       "      <th>victim_gender</th>\n",
       "      <th>victim_race</th>\n",
       "      <th>victim_ethnicity</th>\n",
       "      <th>victim_county_resident</th>\n",
       "      <th>mapped_location</th>\n",
       "      <th>rpa</th>\n",
       "      <th>zone</th>\n",
       "      <th>zip_code</th>\n",
       "      <th>geometry</th>\n",
       "    </tr>\n",
       "  </thead>\n",
       "  <tbody>\n",
       "    <tr>\n",
       "      <th>0</th>\n",
       "      <td>20220167824_11</td>\n",
       "      <td>20220167824</td>\n",
       "      <td>D</td>\n",
       "      <td>DISPATCHED</td>\n",
       "      <td>O</td>\n",
       "      <td>OPEN</td>\n",
       "      <td>Open</td>\n",
       "      <td>2022-04-07T15:00:00.000</td>\n",
       "      <td>2022-04-08T11:52:00.000</td>\n",
       "      <td>JACKSON ST</td>\n",
       "      <td>...</td>\n",
       "      <td>INDIVIDUAL (18 AND OVER)</td>\n",
       "      <td>U</td>\n",
       "      <td>W</td>\n",
       "      <td>Non-Hispanic</td>\n",
       "      <td>NON RESIDENT</td>\n",
       "      <td>{'type': 'Point', 'coordinates': [-86.8, 36.17]}</td>\n",
       "      <td>NaN</td>\n",
       "      <td>NaN</td>\n",
       "      <td>NaN</td>\n",
       "      <td>POINT (-86.80000 36.17000)</td>\n",
       "    </tr>\n",
       "    <tr>\n",
       "      <th>1</th>\n",
       "      <td>20220126184_31</td>\n",
       "      <td>20220126184</td>\n",
       "      <td>D</td>\n",
       "      <td>DISPATCHED</td>\n",
       "      <td>O</td>\n",
       "      <td>OPEN</td>\n",
       "      <td>Open</td>\n",
       "      <td>2022-03-18T02:30:00.000</td>\n",
       "      <td>2022-03-18T06:51:00.000</td>\n",
       "      <td>BENTON AVE</td>\n",
       "      <td>...</td>\n",
       "      <td>INDIVIDUAL (18 AND OVER)</td>\n",
       "      <td>M</td>\n",
       "      <td>W</td>\n",
       "      <td>Non-Hispanic</td>\n",
       "      <td>RESIDENT</td>\n",
       "      <td>{'type': 'Point', 'coordinates': [-86.77, 36.13]}</td>\n",
       "      <td>8029</td>\n",
       "      <td>817</td>\n",
       "      <td>NaN</td>\n",
       "      <td>POINT (-86.77000 36.13000)</td>\n",
       "    </tr>\n",
       "    <tr>\n",
       "      <th>2</th>\n",
       "      <td>20220027854_12</td>\n",
       "      <td>20220027854</td>\n",
       "      <td>D</td>\n",
       "      <td>DISPATCHED</td>\n",
       "      <td>O</td>\n",
       "      <td>OPEN</td>\n",
       "      <td>Open</td>\n",
       "      <td>2022-01-18T07:45:00.000</td>\n",
       "      <td>2022-01-19T23:48:00.000</td>\n",
       "      <td>CANE RIDGE RD</td>\n",
       "      <td>...</td>\n",
       "      <td>INDIVIDUAL (18 AND OVER)</td>\n",
       "      <td>M</td>\n",
       "      <td>B</td>\n",
       "      <td>Non-Hispanic</td>\n",
       "      <td>RESIDENT</td>\n",
       "      <td>{'type': 'Point', 'coordinates': [-86.66, 36.04]}</td>\n",
       "      <td>NaN</td>\n",
       "      <td>NaN</td>\n",
       "      <td>NaN</td>\n",
       "      <td>POINT (-86.66000 36.04000)</td>\n",
       "    </tr>\n",
       "    <tr>\n",
       "      <th>3</th>\n",
       "      <td>20220032825_11</td>\n",
       "      <td>20220032825</td>\n",
       "      <td>D</td>\n",
       "      <td>DISPATCHED</td>\n",
       "      <td>O</td>\n",
       "      <td>OPEN</td>\n",
       "      <td>Open</td>\n",
       "      <td>2022-01-23T00:40:00.000</td>\n",
       "      <td>2022-01-24T06:57:00.000</td>\n",
       "      <td>BROOKWOOD TER</td>\n",
       "      <td>...</td>\n",
       "      <td>INDIVIDUAL (18 AND OVER)</td>\n",
       "      <td>F</td>\n",
       "      <td>W</td>\n",
       "      <td>Non-Hispanic</td>\n",
       "      <td>RESIDENT</td>\n",
       "      <td>{'type': 'Point', 'coordinates': [-86.86, 36.13]}</td>\n",
       "      <td>5019</td>\n",
       "      <td>121</td>\n",
       "      <td>NaN</td>\n",
       "      <td>POINT (-86.86000 36.13000)</td>\n",
       "    </tr>\n",
       "    <tr>\n",
       "      <th>4</th>\n",
       "      <td>20220023736_11</td>\n",
       "      <td>20220023736</td>\n",
       "      <td>D</td>\n",
       "      <td>DISPATCHED</td>\n",
       "      <td>O</td>\n",
       "      <td>OPEN</td>\n",
       "      <td>Open</td>\n",
       "      <td>2022-01-15T10:00:00.000</td>\n",
       "      <td>2022-01-17T11:25:00.000</td>\n",
       "      <td>WEDGEWOOD AVE</td>\n",
       "      <td>...</td>\n",
       "      <td>BUSINESS</td>\n",
       "      <td>NaN</td>\n",
       "      <td>NaN</td>\n",
       "      <td>NaN</td>\n",
       "      <td>NaN</td>\n",
       "      <td>{'type': 'Point', 'coordinates': [-86.77, 36.13]}</td>\n",
       "      <td>8025</td>\n",
       "      <td>817</td>\n",
       "      <td>NaN</td>\n",
       "      <td>POINT (-86.77000 36.13000)</td>\n",
       "    </tr>\n",
       "  </tbody>\n",
       "</table>\n",
       "<p>5 rows × 32 columns</p>\n",
       "</div>"
      ],
      "text/plain": [
       "      primary_key incident_number report_type report_type_description  \\\n",
       "0  20220167824_11     20220167824           D              DISPATCHED   \n",
       "1  20220126184_31     20220126184           D              DISPATCHED   \n",
       "2  20220027854_12     20220027854           D              DISPATCHED   \n",
       "3  20220032825_11     20220032825           D              DISPATCHED   \n",
       "4  20220023736_11     20220023736           D              DISPATCHED   \n",
       "\n",
       "  incident_status_code incident_status_description investigation_status  \\\n",
       "0                    O                        OPEN                 Open   \n",
       "1                    O                        OPEN                 Open   \n",
       "2                    O                        OPEN                 Open   \n",
       "3                    O                        OPEN                 Open   \n",
       "4                    O                        OPEN                 Open   \n",
       "\n",
       "         incident_occurred        incident_reported incident_location  ...  \\\n",
       "0  2022-04-07T15:00:00.000  2022-04-08T11:52:00.000        JACKSON ST  ...   \n",
       "1  2022-03-18T02:30:00.000  2022-03-18T06:51:00.000        BENTON AVE  ...   \n",
       "2  2022-01-18T07:45:00.000  2022-01-19T23:48:00.000     CANE RIDGE RD  ...   \n",
       "3  2022-01-23T00:40:00.000  2022-01-24T06:57:00.000     BROOKWOOD TER  ...   \n",
       "4  2022-01-15T10:00:00.000  2022-01-17T11:25:00.000     WEDGEWOOD AVE  ...   \n",
       "\n",
       "         victim_description victim_gender victim_race victim_ethnicity  \\\n",
       "0  INDIVIDUAL (18 AND OVER)             U           W     Non-Hispanic   \n",
       "1  INDIVIDUAL (18 AND OVER)             M           W     Non-Hispanic   \n",
       "2  INDIVIDUAL (18 AND OVER)             M           B     Non-Hispanic   \n",
       "3  INDIVIDUAL (18 AND OVER)             F           W     Non-Hispanic   \n",
       "4                  BUSINESS           NaN         NaN              NaN   \n",
       "\n",
       "  victim_county_resident                                    mapped_location  \\\n",
       "0           NON RESIDENT   {'type': 'Point', 'coordinates': [-86.8, 36.17]}   \n",
       "1               RESIDENT  {'type': 'Point', 'coordinates': [-86.77, 36.13]}   \n",
       "2               RESIDENT  {'type': 'Point', 'coordinates': [-86.66, 36.04]}   \n",
       "3               RESIDENT  {'type': 'Point', 'coordinates': [-86.86, 36.13]}   \n",
       "4                    NaN  {'type': 'Point', 'coordinates': [-86.77, 36.13]}   \n",
       "\n",
       "    rpa zone zip_code                    geometry  \n",
       "0   NaN  NaN      NaN  POINT (-86.80000 36.17000)  \n",
       "1  8029  817      NaN  POINT (-86.77000 36.13000)  \n",
       "2   NaN  NaN      NaN  POINT (-86.66000 36.04000)  \n",
       "3  5019  121      NaN  POINT (-86.86000 36.13000)  \n",
       "4  8025  817      NaN  POINT (-86.77000 36.13000)  \n",
       "\n",
       "[5 rows x 32 columns]"
      ]
     },
     "execution_count": 53,
     "metadata": {},
     "output_type": "execute_result"
    }
   ],
   "source": [
    "agg_burg['geometry'] = gpd.points_from_xy(agg_burg['longitude'], agg_burg['latitude'])\n",
    "agg_burg.head()"
   ]
  },
  {
   "cell_type": "markdown",
   "id": "dd5e042a",
   "metadata": {},
   "source": [
    "# convert it to Geo Data for map drawing\n",
    "The GeoDataFrame() constructor needs 3 parameters:\n",
    "a DataFrame\n",
    "a coordinate reference system\n",
    "a geometry"
   ]
  },
  {
   "cell_type": "code",
   "execution_count": 54,
   "id": "353d099a",
   "metadata": {},
   "outputs": [],
   "source": [
    "TN_BURG_GEO = gpd.GeoDataFrame(agg_burg, \n",
    "                           crs = TN_shape.crs, \n",
    "                           geometry = agg_burg['geometry'])"
   ]
  },
  {
   "cell_type": "code",
   "execution_count": 55,
   "id": "0e46f06a",
   "metadata": {},
   "outputs": [
    {
     "data": {
      "text/plain": [
       "geopandas.geodataframe.GeoDataFrame"
      ]
     },
     "execution_count": 55,
     "metadata": {},
     "output_type": "execute_result"
    }
   ],
   "source": [
    "type(TN_BURG_GEO)\n",
    "#TN_BURG_GEO.shape #(1000, 32)"
   ]
  },
  {
   "cell_type": "code",
   "execution_count": 56,
   "id": "12485661",
   "metadata": {},
   "outputs": [
    {
     "data": {
      "text/plain": [
       "<AxesSubplot: >"
      ]
     },
     "execution_count": 56,
     "metadata": {},
     "output_type": "execute_result"
    },
    {
     "data": {
      "image/png": "[encoded data removed]",
      "text/plain": [
       "<Figure size 640x480 with 1 Axes>"
      ]
     },
     "metadata": {},
     "output_type": "display_data"
    }
   ],
   "source": [
    "TN_BURG_GEO.plot()"
   ]
  },
  {
   "cell_type": "markdown",
   "id": "61e4fe0e",
   "metadata": {},
   "source": [
    "# Merging the agg_burgg data to the TN shape data after conversion to the geo dataframe"
   ]
  },
  {
   "cell_type": "code",
   "execution_count": 57,
   "id": "a7d0e537",
   "metadata": {},
   "outputs": [
    {
     "data": {
      "text/plain": [
       "(1334, 45)"
      ]
     },
     "execution_count": 57,
     "metadata": {},
     "output_type": "execute_result"
    }
   ],
   "source": [
    "BURG_TNDA = gpd.sjoin(TN_BURG_GEO, TN_shape, predicate = 'within')\n",
    "BURG_TNDA.shape"
   ]
  },
  {
   "cell_type": "code",
   "execution_count": 58,
   "id": "642fc9a8",
   "metadata": {},
   "outputs": [
    {
     "data": {
      "text/plain": [
       "Index(['primary_key', 'incident_number', 'report_type',\n",
       "       'report_type_description', 'incident_status_code',\n",
       "       'incident_status_description', 'investigation_status',\n",
       "       'incident_occurred', 'incident_reported', 'incident_location',\n",
       "       'latitude', 'longitude', 'location_code', 'location_description',\n",
       "       'offense_number', 'offense_nibrs', 'offense_description',\n",
       "       'weapon_primary', 'weapon_description', 'victim_number',\n",
       "       'domestic_related', 'victim_type', 'victim_description',\n",
       "       'victim_gender', 'victim_race', 'victim_ethnicity',\n",
       "       'victim_county_resident', 'mapped_location', 'rpa', 'zone', 'zip_code',\n",
       "       'geometry', 'index_right', 'STATEFP', 'COUNTYFP', 'TRACTCE', 'GEOID',\n",
       "       'NAME', 'NAMELSAD', 'MTFCC', 'FUNCSTAT', 'ALAND', 'AWATER', 'INTPTLAT',\n",
       "       'INTPTLON'],\n",
       "      dtype='object')"
      ]
     },
     "execution_count": 58,
     "metadata": {},
     "output_type": "execute_result"
    }
   ],
   "source": [
    "BURG_TNDA.head()\n",
    "BURG_TNDA.columns"
   ]
  },
  {
   "cell_type": "code",
   "execution_count": 59,
   "id": "e9a93a05",
   "metadata": {},
   "outputs": [
    {
     "data": {
      "text/html": [
       "<div>\n",
       "<style scoped>\n",
       "    .dataframe tbody tr th:only-of-type {\n",
       "        vertical-align: middle;\n",
       "    }\n",
       "\n",
       "    .dataframe tbody tr th {\n",
       "        vertical-align: top;\n",
       "    }\n",
       "\n",
       "    .dataframe thead th {\n",
       "        text-align: right;\n",
       "    }\n",
       "</style>\n",
       "<table border=\"1\" class=\"dataframe\">\n",
       "  <thead>\n",
       "    <tr style=\"text-align: right;\">\n",
       "      <th></th>\n",
       "      <th>primary_key</th>\n",
       "      <th>incident_number</th>\n",
       "      <th>report_type</th>\n",
       "      <th>report_type_description</th>\n",
       "      <th>incident_status_code</th>\n",
       "      <th>incident_status_description</th>\n",
       "      <th>investigation_status</th>\n",
       "      <th>incident_occurred</th>\n",
       "      <th>incident_reported</th>\n",
       "      <th>incident_location</th>\n",
       "      <th>...</th>\n",
       "      <th>TRACTCE</th>\n",
       "      <th>GEOID</th>\n",
       "      <th>NAME</th>\n",
       "      <th>NAMELSAD</th>\n",
       "      <th>MTFCC</th>\n",
       "      <th>FUNCSTAT</th>\n",
       "      <th>ALAND</th>\n",
       "      <th>AWATER</th>\n",
       "      <th>INTPTLAT</th>\n",
       "      <th>INTPTLON</th>\n",
       "    </tr>\n",
       "  </thead>\n",
       "  <tbody>\n",
       "    <tr>\n",
       "      <th>0</th>\n",
       "      <td>20220167824_11</td>\n",
       "      <td>20220167824</td>\n",
       "      <td>D</td>\n",
       "      <td>DISPATCHED</td>\n",
       "      <td>O</td>\n",
       "      <td>OPEN</td>\n",
       "      <td>Open</td>\n",
       "      <td>2022-04-07T15:00:00.000</td>\n",
       "      <td>2022-04-08T11:52:00.000</td>\n",
       "      <td>JACKSON ST</td>\n",
       "      <td>...</td>\n",
       "      <td>014200</td>\n",
       "      <td>47037014200</td>\n",
       "      <td>142</td>\n",
       "      <td>Census Tract 142</td>\n",
       "      <td>G5020</td>\n",
       "      <td>S</td>\n",
       "      <td>1080635</td>\n",
       "      <td>0</td>\n",
       "      <td>+36.1669323</td>\n",
       "      <td>-086.8036511</td>\n",
       "    </tr>\n",
       "    <tr>\n",
       "      <th>135</th>\n",
       "      <td>20220285055_11</td>\n",
       "      <td>20220285055</td>\n",
       "      <td>D</td>\n",
       "      <td>DISPATCHED</td>\n",
       "      <td>O</td>\n",
       "      <td>OPEN</td>\n",
       "      <td>Open</td>\n",
       "      <td>2022-06-04T13:17:00.000</td>\n",
       "      <td>2022-06-09T13:17:00.000</td>\n",
       "      <td>IRELAND ST</td>\n",
       "      <td>...</td>\n",
       "      <td>014200</td>\n",
       "      <td>47037014200</td>\n",
       "      <td>142</td>\n",
       "      <td>Census Tract 142</td>\n",
       "      <td>G5020</td>\n",
       "      <td>S</td>\n",
       "      <td>1080635</td>\n",
       "      <td>0</td>\n",
       "      <td>+36.1669323</td>\n",
       "      <td>-086.8036511</td>\n",
       "    </tr>\n",
       "    <tr>\n",
       "      <th>175</th>\n",
       "      <td>20220059646_11</td>\n",
       "      <td>20220059646</td>\n",
       "      <td>D</td>\n",
       "      <td>DISPATCHED</td>\n",
       "      <td>O</td>\n",
       "      <td>OPEN</td>\n",
       "      <td>Open</td>\n",
       "      <td>2022-02-08T21:00:00.000</td>\n",
       "      <td>2022-02-08T22:49:00.000</td>\n",
       "      <td>14TH AVE N</td>\n",
       "      <td>...</td>\n",
       "      <td>014200</td>\n",
       "      <td>47037014200</td>\n",
       "      <td>142</td>\n",
       "      <td>Census Tract 142</td>\n",
       "      <td>G5020</td>\n",
       "      <td>S</td>\n",
       "      <td>1080635</td>\n",
       "      <td>0</td>\n",
       "      <td>+36.1669323</td>\n",
       "      <td>-086.8036511</td>\n",
       "    </tr>\n",
       "    <tr>\n",
       "      <th>229</th>\n",
       "      <td>20220070314_11</td>\n",
       "      <td>20220070314</td>\n",
       "      <td>D</td>\n",
       "      <td>DISPATCHED</td>\n",
       "      <td>O</td>\n",
       "      <td>OPEN</td>\n",
       "      <td>Open</td>\n",
       "      <td>2022-02-15T05:00:00.000</td>\n",
       "      <td>2022-02-15T11:10:00.000</td>\n",
       "      <td>IRELAND ST</td>\n",
       "      <td>...</td>\n",
       "      <td>014200</td>\n",
       "      <td>47037014200</td>\n",
       "      <td>142</td>\n",
       "      <td>Census Tract 142</td>\n",
       "      <td>G5020</td>\n",
       "      <td>S</td>\n",
       "      <td>1080635</td>\n",
       "      <td>0</td>\n",
       "      <td>+36.1669323</td>\n",
       "      <td>-086.8036511</td>\n",
       "    </tr>\n",
       "    <tr>\n",
       "      <th>324</th>\n",
       "      <td>20220206351_22</td>\n",
       "      <td>20220206351</td>\n",
       "      <td>D</td>\n",
       "      <td>DISPATCHED</td>\n",
       "      <td>O</td>\n",
       "      <td>OPEN</td>\n",
       "      <td>Open</td>\n",
       "      <td>2022-04-27T22:00:00.000</td>\n",
       "      <td>2022-04-28T09:28:00.000</td>\n",
       "      <td>IRELAND ST</td>\n",
       "      <td>...</td>\n",
       "      <td>014200</td>\n",
       "      <td>47037014200</td>\n",
       "      <td>142</td>\n",
       "      <td>Census Tract 142</td>\n",
       "      <td>G5020</td>\n",
       "      <td>S</td>\n",
       "      <td>1080635</td>\n",
       "      <td>0</td>\n",
       "      <td>+36.1669323</td>\n",
       "      <td>-086.8036511</td>\n",
       "    </tr>\n",
       "  </tbody>\n",
       "</table>\n",
       "<p>5 rows × 45 columns</p>\n",
       "</div>"
      ],
      "text/plain": [
       "        primary_key incident_number report_type report_type_description  \\\n",
       "0    20220167824_11     20220167824           D              DISPATCHED   \n",
       "135  20220285055_11     20220285055           D              DISPATCHED   \n",
       "175  20220059646_11     20220059646           D              DISPATCHED   \n",
       "229  20220070314_11     20220070314           D              DISPATCHED   \n",
       "324  20220206351_22     20220206351           D              DISPATCHED   \n",
       "\n",
       "    incident_status_code incident_status_description investigation_status  \\\n",
       "0                      O                        OPEN                 Open   \n",
       "135                    O                        OPEN                 Open   \n",
       "175                    O                        OPEN                 Open   \n",
       "229                    O                        OPEN                 Open   \n",
       "324                    O                        OPEN                 Open   \n",
       "\n",
       "           incident_occurred        incident_reported incident_location  ...  \\\n",
       "0    2022-04-07T15:00:00.000  2022-04-08T11:52:00.000        JACKSON ST  ...   \n",
       "135  2022-06-04T13:17:00.000  2022-06-09T13:17:00.000        IRELAND ST  ...   \n",
       "175  2022-02-08T21:00:00.000  2022-02-08T22:49:00.000        14TH AVE N  ...   \n",
       "229  2022-02-15T05:00:00.000  2022-02-15T11:10:00.000        IRELAND ST  ...   \n",
       "324  2022-04-27T22:00:00.000  2022-04-28T09:28:00.000        IRELAND ST  ...   \n",
       "\n",
       "    TRACTCE        GEOID NAME          NAMELSAD  MTFCC FUNCSTAT    ALAND  \\\n",
       "0    014200  47037014200  142  Census Tract 142  G5020        S  1080635   \n",
       "135  014200  47037014200  142  Census Tract 142  G5020        S  1080635   \n",
       "175  014200  47037014200  142  Census Tract 142  G5020        S  1080635   \n",
       "229  014200  47037014200  142  Census Tract 142  G5020        S  1080635   \n",
       "324  014200  47037014200  142  Census Tract 142  G5020        S  1080635   \n",
       "\n",
       "    AWATER     INTPTLAT      INTPTLON  \n",
       "0        0  +36.1669323  -086.8036511  \n",
       "135      0  +36.1669323  -086.8036511  \n",
       "175      0  +36.1669323  -086.8036511  \n",
       "229      0  +36.1669323  -086.8036511  \n",
       "324      0  +36.1669323  -086.8036511  \n",
       "\n",
       "[5 rows x 45 columns]"
      ]
     },
     "execution_count": 59,
     "metadata": {},
     "output_type": "execute_result"
    }
   ],
   "source": [
    "BURG_TNDA.head()"
   ]
  },
  {
   "cell_type": "markdown",
   "id": "c073676d",
   "metadata": {},
   "source": [
    "NOTE: Create the aggregate columns. The 'TRACTCE' in the BURG_TNDA is same identifies as the tract column in TN_pop_inc.\n",
    "    \n",
    "    ggregate the data by census tract. Warning: each incident can appear multiple times if there are multiple victims, so be sure that you aren't double-counting any incidents. Which census tract had the highest number of burglaries? Which census tract had the highest number of burglaries per 1000 residents? Note: Make sure that you keep all census tracts, not just those that have had a burglary."
   ]
  },
  {
   "cell_type": "code",
   "execution_count": 60,
   "id": "33e99ec1",
   "metadata": {},
   "outputs": [
    {
     "data": {
      "text/plain": [
       "Index(['primary_key', 'incident_number', 'report_type',\n",
       "       'report_type_description', 'incident_status_code',\n",
       "       'incident_status_description', 'investigation_status',\n",
       "       'incident_occurred', 'incident_reported', 'incident_location',\n",
       "       'latitude', 'longitude', 'location_code', 'location_description',\n",
       "       'offense_number', 'offense_nibrs', 'offense_description',\n",
       "       'weapon_primary', 'weapon_description', 'victim_number',\n",
       "       'domestic_related', 'victim_type', 'victim_description',\n",
       "       'victim_gender', 'victim_race', 'victim_ethnicity',\n",
       "       'victim_county_resident', 'mapped_location', 'rpa', 'zone', 'zip_code',\n",
       "       'geometry', 'index_right', 'STATEFP', 'COUNTYFP', 'TRACTCE', 'GEOID',\n",
       "       'NAME', 'NAMELSAD', 'MTFCC', 'FUNCSTAT', 'ALAND', 'AWATER', 'INTPTLAT',\n",
       "       'INTPTLON'],\n",
       "      dtype='object')"
      ]
     },
     "execution_count": 60,
     "metadata": {},
     "output_type": "execute_result"
    }
   ],
   "source": [
    "BURG_TNDA.columns"
   ]
  },
  {
   "cell_type": "code",
   "execution_count": 61,
   "id": "e2f4646c",
   "metadata": {},
   "outputs": [
    {
     "data": {
      "text/plain": [
       "TRACTCE\n",
       "010103     1\n",
       "010104     8\n",
       "010105     6\n",
       "010106    11\n",
       "010201     6\n",
       "          ..\n",
       "019402     2\n",
       "019501     1\n",
       "019502     7\n",
       "019503    11\n",
       "019600    11\n",
       "Name: TRACTCE, Length: 163, dtype: int64"
      ]
     },
     "execution_count": 61,
     "metadata": {},
     "output_type": "execute_result"
    }
   ],
   "source": [
    "BURG_TNDA.groupby(['TRACTCE'])['TRACTCE'].count().sort_index()"
   ]
  },
  {
   "cell_type": "code",
   "execution_count": 62,
   "id": "3939df20",
   "metadata": {},
   "outputs": [
    {
     "data": {
      "text/plain": [
       "1013"
      ]
     },
     "execution_count": 62,
     "metadata": {},
     "output_type": "execute_result"
    }
   ],
   "source": [
    "BURG_TNDA['incident_number'].nunique()"
   ]
  },
  {
   "cell_type": "code",
   "execution_count": 63,
   "id": "37cab96e",
   "metadata": {},
   "outputs": [
    {
     "data": {
      "text/plain": [
       "(1013, 45)"
      ]
     },
     "execution_count": 63,
     "metadata": {},
     "output_type": "execute_result"
    }
   ],
   "source": [
    "TNDABURG = BURG_TNDA.drop_duplicates('incident_number')\n",
    "TNDABURG.shape\n",
    "#TNDABURG['incident_number'].value_counts()"
   ]
  },
  {
   "cell_type": "code",
   "execution_count": 72,
   "id": "d0349ef9",
   "metadata": {},
   "outputs": [
    {
     "data": {
      "text/html": [
       "<div>\n",
       "<style scoped>\n",
       "    .dataframe tbody tr th:only-of-type {\n",
       "        vertical-align: middle;\n",
       "    }\n",
       "\n",
       "    .dataframe tbody tr th {\n",
       "        vertical-align: top;\n",
       "    }\n",
       "\n",
       "    .dataframe thead th {\n",
       "        text-align: right;\n",
       "    }\n",
       "</style>\n",
       "<table border=\"1\" class=\"dataframe\">\n",
       "  <thead>\n",
       "    <tr style=\"text-align: right;\">\n",
       "      <th></th>\n",
       "      <th>tract</th>\n",
       "      <th>Burg_count</th>\n",
       "    </tr>\n",
       "  </thead>\n",
       "  <tbody>\n",
       "    <tr>\n",
       "      <th>0</th>\n",
       "      <td>016300</td>\n",
       "      <td>31</td>\n",
       "    </tr>\n",
       "    <tr>\n",
       "      <th>1</th>\n",
       "      <td>016000</td>\n",
       "      <td>28</td>\n",
       "    </tr>\n",
       "    <tr>\n",
       "      <th>2</th>\n",
       "      <td>014300</td>\n",
       "      <td>23</td>\n",
       "    </tr>\n",
       "    <tr>\n",
       "      <th>3</th>\n",
       "      <td>014200</td>\n",
       "      <td>21</td>\n",
       "    </tr>\n",
       "    <tr>\n",
       "      <th>4</th>\n",
       "      <td>011300</td>\n",
       "      <td>19</td>\n",
       "    </tr>\n",
       "  </tbody>\n",
       "</table>\n",
       "</div>"
      ],
      "text/plain": [
       "    tract  Burg_count\n",
       "0  016300          31\n",
       "1  016000          28\n",
       "2  014300          23\n",
       "3  014200          21\n",
       "4  011300          19"
      ]
     },
     "execution_count": 72,
     "metadata": {},
     "output_type": "execute_result"
    }
   ],
   "source": [
    "burOnly = TNDABURG['TRACTCE'].value_counts().reset_index(name='Burg_count')\n",
    "burOnly.shape\n",
    "burOnly.head()\n",
    "burOnly = burOnly.rename(columns = {'index':\"tract\"})\n",
    "burOnly.head()"
   ]
  },
  {
   "cell_type": "code",
   "execution_count": 64,
   "id": "8417515c",
   "metadata": {},
   "outputs": [
    {
     "data": {
      "text/plain": [
       "Index(['primary_key', 'incident_number', 'report_type',\n",
       "       'report_type_description', 'incident_status_code',\n",
       "       'incident_status_description', 'investigation_status',\n",
       "       'incident_occurred', 'incident_reported', 'incident_location',\n",
       "       'latitude', 'longitude', 'location_code', 'location_description',\n",
       "       'offense_number', 'offense_nibrs', 'offense_description',\n",
       "       'weapon_primary', 'weapon_description', 'victim_number',\n",
       "       'domestic_related', 'victim_type', 'victim_description',\n",
       "       'victim_gender', 'victim_race', 'victim_ethnicity',\n",
       "       'victim_county_resident', 'mapped_location', 'rpa', 'zone', 'zip_code',\n",
       "       'geometry', 'index_right', 'STATEFP', 'COUNTYFP', 'TRACTCE', 'GEOID',\n",
       "       'NAME', 'NAMELSAD', 'MTFCC', 'FUNCSTAT', 'ALAND', 'AWATER', 'INTPTLAT',\n",
       "       'INTPTLON'],\n",
       "      dtype='object')"
      ]
     },
     "execution_count": 64,
     "metadata": {},
     "output_type": "execute_result"
    }
   ],
   "source": [
    "TNDABURG.columns"
   ]
  },
  {
   "cell_type": "code",
   "execution_count": 80,
   "id": "0da23cda",
   "metadata": {},
   "outputs": [
    {
     "data": {
      "text/plain": [
       "(174, 7)"
      ]
     },
     "execution_count": 80,
     "metadata": {},
     "output_type": "execute_result"
    }
   ],
   "source": [
    "TNDABur_pop_inc = pd.merge(left=TNDA_pop_inc, right=burOnly, on=['tract'], how='outer')\n",
    "TNDABur_pop_inc.shape"
   ]
  },
  {
   "cell_type": "code",
   "execution_count": 77,
   "id": "c31fe602",
   "metadata": {},
   "outputs": [
    {
     "data": {
      "text/plain": [
       "174"
      ]
     },
     "execution_count": 77,
     "metadata": {},
     "output_type": "execute_result"
    }
   ],
   "source": [
    "TNDABur_pop_inc['tract'].nunique()"
   ]
  },
  {
   "cell_type": "code",
   "execution_count": 79,
   "id": "dd17cccc",
   "metadata": {},
   "outputs": [
    {
     "data": {
      "text/plain": [
       "174"
      ]
     },
     "execution_count": 79,
     "metadata": {},
     "output_type": "execute_result"
    }
   ],
   "source": [
    "TNDA_pop_inc[\"tract\"].nunique()"
   ]
  },
  {
   "cell_type": "code",
   "execution_count": null,
   "id": "bb5beb9d",
   "metadata": {},
   "outputs": [],
   "source": []
  }
 ],
 "metadata": {
  "kernelspec": {
   "display_name": "Python 3 (ipykernel)",
   "language": "python",
   "name": "python3"
  },
  "language_info": {
   "codemirror_mode": {
    "name": "ipython",
    "version": 3
   },
   "file_extension": ".py",
   "mimetype": "text/x-python",
   "name": "python",
   "nbconvert_exporter": "python",
   "pygments_lexer": "ipython3",
   "version": "3.10.6"
  }
 },
 "nbformat": 4,
 "nbformat_minor": 5
}
